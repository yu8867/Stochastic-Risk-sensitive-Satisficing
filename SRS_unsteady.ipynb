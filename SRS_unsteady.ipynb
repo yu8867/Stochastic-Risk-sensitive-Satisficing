{
  "cells": [
    {
      "cell_type": "markdown",
      "metadata": {
        "id": "view-in-github",
        "colab_type": "text"
      },
      "source": [
        "<a href=\"https://colab.research.google.com/github/yu8867/SRS/blob/main/SRS_unsteady.ipynb\" target=\"_parent\"><img src=\"https://colab.research.google.com/assets/colab-badge.svg\" alt=\"Open In Colab\"/></a>"
      ]
    },
    {
      "cell_type": "code",
      "execution_count": null,
      "metadata": {
        "id": "xxmTDhxKAMO0"
      },
      "outputs": [],
      "source": [
        "import numpy as np\n",
        "import matplotlib.pyplot as plt\n",
        "from tqdm import tqdm\n",
        "import random\n",
        "import math\n",
        "import warnings\n",
        "warnings.simplefilter('ignore', category=RuntimeWarning)\n",
        "import random"
      ]
    },
    {
      "cell_type": "code",
      "execution_count": null,
      "metadata": {
        "id": "c7W3HD3SBEzK"
      },
      "outputs": [],
      "source": [
        "class Agent_Unsteady:\n",
        "  def __init__(self, E, arm_times, arm_random_p, arm_size, gamma):\n",
        "    self.E = E\n",
        "    self.arm_times = arm_times\n",
        "    self.arm_random_p = arm_random_p\n",
        "    self.arm_size  = arm_size\n",
        "    self.w = np.array([10**-7]*arm_size)\n",
        "    self.l = np.array([10**-7]*arm_size)  \n",
        "    self.gamma = gamma\n",
        "    self.success = np.zeros(len(E))\n",
        "    self.fail = np.zeros(len(E))\n",
        "  \n",
        "  def initialize(self):\n",
        "    self.E = np.array([0.5] * self.arm_size)\n",
        "    self.arm_times = np.array([10**-7] * self.arm_size)\n",
        "    self.arm_random_p = np.array([0] * self.arm_size)\n",
        "    self.w = np.array([10**-7] * self.arm_size)\n",
        "    self.l = np.array([10**-7] * self.arm_size)\n",
        "    self.success = np.zeros(self.arm_size)\n",
        "    self.fail = np.zeros(self.arm_size)   \n",
        "\n",
        "  def updata(self, reward, action):\n",
        "    # print(\"\\nw_before = \",self.w)\n",
        "    # print(\"l_before = \",self.l,\"\\n\")\n",
        "    if reward == 1:\n",
        "      self.w = [self.gamma*self.w[i] if i!=action else self.gamma*self.w[i]+1 for i in range(len(self.w))]\n",
        "      self.l = self.gamma * np.array(self.l)\n",
        "\n",
        "    elif reward == 0:\n",
        "      self.l = [self.gamma*self.l[i] if i!=action else self.gamma*self.l[i]+1 for i in range(len(self.l))]\n",
        "      self.w = self.gamma * np.array(self.w)\n",
        "\n",
        "    self.arm_times[action] = self.w[action]  + self.l[action]\n",
        "    self.E[action] = self.w[action]/ (self.w[action]  + self.l[action])\n",
        "    # self.E[action] = ((self.arm_times[action]-1)/self.arm_times[action])*self.E[action] + (1/self.arm_times[action]) * reward\n",
        "    # print(\"w_after = \",self.w)\n",
        "    # print(\"l_after = \",self.l)\n",
        "    if reward == 1:\n",
        "      self.success[action] = self.success[action] +1\n",
        "    elif reward == 0:\n",
        "      self.fail[action] = self.fail[action] + 1\n",
        "\n",
        "  def random_prob(self, size):\n",
        "    self.arm_random = np.random.rand(size)\n",
        "    return self.arm_random     \n",
        "\n",
        "  def reward(self, p, action):\n",
        "    if random.random() < p[action]:\n",
        "      return 1.0\n",
        "    else:\n",
        "      return 0.0  \n",
        "\n",
        "def shuffle_all_move(items):\n",
        "    rand_ord = random.sample(range(len(items)), k=len(items))\n",
        "    return [items[r] for i, r in sorted(zip(rand_ord, rand_ord[1:]+rand_ord[:1]))]"
      ]
    },
    {
      "cell_type": "markdown",
      "metadata": {
        "id": "nR1Vmx5j7-HT"
      },
      "source": [
        "#方策"
      ]
    },
    {
      "cell_type": "code",
      "execution_count": null,
      "metadata": {
        "id": "W9VS6Ah0DHwq"
      },
      "outputs": [],
      "source": [
        "######################################\n",
        "class SRS:\n",
        "  def __init__(self, aleph, opt, epsilon):\n",
        "    self.aleph = aleph\n",
        "    self.epsilon = epsilon\n",
        "\n",
        "  def select_arm(self, E, arm_times, N, agent):\n",
        "    if  E.max() > self.aleph:\n",
        "      E = E - E.max() + self.aleph - self.epsilon\n",
        "\n",
        "    Z = 1/(np.sum(1/(self.aleph - E)))\n",
        "    row = Z / (self.aleph - E)\n",
        "    b = (arm_times / row) - N + self.epsilon\n",
        "\n",
        "    SRS = (N + b.max()) * row - arm_times\n",
        "    pi = SRS/np.sum(SRS)\n",
        "\n",
        "    return np.random.choice(len(pi),p=pi)\n",
        "\n",
        "######################################\n",
        "#SRS-CHはdesktopの方に回答ある\n",
        "class SRS_CH:\n",
        "  def __init__(self, p, epsilon):\n",
        "    self.aleph = 1.0\n",
        "    self.epsilon = epsilon\n",
        "\n",
        "  def select_arm(self, E, arm_times, N, agent):\n",
        "    E_max = E.max()\n",
        "    DKL = E*np.log(E/E_max) + (1-E)*np.log((1-E)/(1-E_max))\n",
        "    myu_ch_list = np.exp((-1)*arm_times*DKL)\n",
        "    aleph = np.nan_to_num(E_max*(1-(E*myu_ch_list/E_max))/(1-myu_ch_list), nan=0)\n",
        "\n",
        "    updata_aleph = aleph.max()\n",
        "    if  E.max() > updata_aleph:\n",
        "      E = E - E.max() + updata_aleph - self.epsilon  \n",
        "        \n",
        "    RS = (-1)*(arm_times/N)*(E - updata_aleph)\n",
        "    row = RS / (aleph - E)\n",
        "\n",
        "    b = (arm_times / row) - N + self.epsilon\n",
        "    # b = (N * row - arm_times)/row\n",
        "\n",
        "    SRS = (N + b.max()) * row - arm_times\n",
        "    # SRS = np.array([self.epsilon if i<0 else i for i in SRS])\n",
        "\n",
        "    pi = SRS/np.sum(SRS)\n",
        "    return np.random.choice(len(pi),p=pi)\n",
        "\n",
        "######################################\n",
        "class SRS_OPT:\n",
        "  def __init__(self, aleph, opt, epsilon):\n",
        "    # p = sorted(p,reverse=True)\n",
        "    # self.aleph = (p[0] + p[1])/2\n",
        "    self.aleph = opt\n",
        "    self.epsilon = epsilon\n",
        "\n",
        "  def select_arm(self, E, arm_times, N, agent):\n",
        "    if  E.max() > self.aleph:\n",
        "      E = E - E.max() + self.aleph - self.epsilon\n",
        "\n",
        "    Z = 1/(np.sum(1/(self.aleph - E)))\n",
        "    row = Z / (self.aleph - E)\n",
        "\n",
        "    b = (arm_times / row) - N + self.epsilon\n",
        "\n",
        "    SRS = (N + b.max()) * row - arm_times\n",
        "\n",
        "    pi = SRS/np.sum(SRS)\n",
        "    return np.random.choice(len(pi),p=pi)\n",
        "\n",
        "######################################\n",
        "class RS:\n",
        "  def __init__(self, aleph, opt, epsilon):\n",
        "    # self.aleph = p.max()\n",
        "    self.epsilon = epsilon\n",
        "    self.aleph = aleph\n",
        "\n",
        "  def select_arm(self, E, arm_times, N, agent):\n",
        "    RS = (arm_times / np.sum(arm_times))*(E - self.aleph)\n",
        "    \n",
        "    return np.argmax(RS)\n",
        "\n",
        "######################################\n",
        "class RS_OPT:\n",
        "  def __init__(self, aleph, opt, epsilon):\n",
        "    # p = sorted(p,reverse=True)\n",
        "    # self.aleph = (p[0] + p[1])/2\n",
        "    self.aleph =  opt\n",
        "\n",
        "  def select_arm(self, E, arm_times, N, agent):\n",
        "    # RS = (arm_times / N)*(E - self.aleph)\n",
        "    RS = (arm_times / np.sum(arm_times))*(E - self.aleph)   \n",
        "    \n",
        "    return np.argmax(RS)\n",
        "\n",
        "######################################\n",
        "class TS:\n",
        "  def __init__(self, aleph, opt, epsilon):\n",
        "    self.epsilon = epsilon\n",
        "  \n",
        "  def select_arm(self, E, arm_times, N, agent):\n",
        "    myu = np.array([np.random.beta(agent.success[action]+1, agent.fail[action]+1) for action in range(agent.arm_size)])\n",
        "    return np.argmax(myu)"
      ]
    },
    {
      "cell_type": "code",
      "execution_count": null,
      "metadata": {
        "id": "GQHMevhxJnGB"
      },
      "outputs": [],
      "source": [
        "class Simulater:\n",
        "  def __init__(self, n_sim, steps, arm_size, epsilon, gamma):\n",
        "    self.steps = steps\n",
        "    self.n_sim = n_sim\n",
        "    self.arm_size = arm_size\n",
        "    self.epsilon = epsilon\n",
        "    self.gamma = gamma\n",
        "    \n",
        "  def test(self, policy, Agent):\n",
        "    agent = Agent(np.array([0.5]*self.arm_size), np.array([10**-7]*self.arm_size), np.zeros(self.arm_size), self.arm_size, self.gamma)\n",
        "    regret = np.zeros((self.n_sim, self.steps))\n",
        "\n",
        "    for sim in tqdm(range(self.n_sim)):  \n",
        "      p = agent.random_prob(self.arm_size)\n",
        "      aleph = p.max()\n",
        "      opt = np.sum(sorted(p,reverse=True)[0:2])/2\n",
        "      pi = policy(aleph, opt, self.epsilon)\n",
        "      for step in range(0, self.steps):\n",
        "        if (step > 40) and (step%2000==0):\n",
        "          p = shuffle_all_move(p)\n",
        "        action = pi.select_arm(agent.E, agent.arm_times, step+1, agent)\n",
        "        reward = agent.reward(p,action)\n",
        "        agent.updata(reward, action)\n",
        "        regret[sim, step] += regret[sim, step-1] + np.max(p) - p[action]\n",
        "      agent.initialize()\n",
        "    return regret"
      ]
    },
    {
      "cell_type": "code",
      "source": [
        "simulata = Simulater(n_sim=100, steps= 100000, arm_size=20, epsilon=10**-4, gamma=0.999)\n",
        "regret_TS = simulata.test(TS, Agent_Unsteady)\n",
        "regret_RS = simulata.test(RS, Agent_Unsteady)\n",
        "regret_RS_OPT = simulata.test(RS_OPT, Agent_Unsteady)\n",
        "regret_SRS = simulata.test(SRS, Agent_Unsteady)\n",
        "regret_SRS_OPT = simulata.test(SRS_OPT, Agent_Unsteady)\n",
        "\n",
        "plt.figure(figsize=(10,6))\n",
        "plt.xlabel(\"step\")\n",
        "plt.ylabel(\"regret\")\n",
        "\n",
        "plt.plot(np.mean(regret_TS, axis=0), label=\"TS\")\n",
        "plt.plot(np.mean(regret_RS, axis=0), label=\"RS(ℵ=p1)\")\n",
        "plt.plot(np.mean(regret_RS_OPT, axis=0), label=\"RS-OPT\")\n",
        "plt.plot(np.mean(regret_SRS, axis=0), label=\"SRS(ℵ=p1)\")\n",
        "plt.plot(np.mean(regret_SRS_OPT, axis=0), label=\"SRS-OPT\")\n",
        "\n",
        "plt.title(\"n_sim=100, steps=100000, arm_size=20, ε=10**-4\")\n",
        "plt.legend()\n",
        "plt.savefig(\"result-SRS.jpg\")\n",
        "plt.show()"
      ],
      "metadata": {
        "colab": {
          "base_uri": "https://localhost:8080/",
          "height": 404
        },
        "id": "giR2vvDhuY7w",
        "outputId": "f5fe9498-c830-47ed-84ec-ccc82d1b4ad2"
      },
      "execution_count": null,
      "outputs": [
        {
          "output_type": "display_data",
          "data": {
            "image/png": "[encoded data removed]",
            "text/plain": [
              "<Figure size 720x432 with 1 Axes>"
            ]
          },
          "metadata": {
            "needs_background": "light"
          }
        }
      ]
    },
    {
      "cell_type": "code",
      "source": [
        "# np.save(\"regret_TS\",regret_TS)\n",
        "# np.save(\"regret_RS\",regret_RS)\n",
        "# np.save(\"regret_RS_OPT\",regret_RS_OPT)\n",
        "# np.save(\"regret_SRS\",regret_SRS)\n",
        "# np.save(\"regret_SRS_OPT\",regret_SRS_OPT)"
      ],
      "metadata": {
        "id": "9WOXWGr63HhN"
      },
      "execution_count": null,
      "outputs": []
    }
  ],
  "metadata": {
    "accelerator": "GPU",
    "colab": {
      "collapsed_sections": [],
      "name": "SRS-unsteady.ipynb",
      "provenance": [],
      "authorship_tag": "ABX9TyOpgO3E6BMS0S1im0gbnc2h",
      "include_colab_link": true
    },
    "kernelspec": {
      "display_name": "Python 3",
      "name": "python3"
    },
    "language_info": {
      "name": "python"
    }
  },
  "nbformat": 4,
  "nbformat_minor": 0
}